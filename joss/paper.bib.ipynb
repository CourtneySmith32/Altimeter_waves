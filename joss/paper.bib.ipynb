{
 "cells": [
  {
   "cell_type": "markdown",
   "metadata": {},
   "source": [
    "@article{Ribal201933Observations,\n",
    "    title = {{33 Years of Globally Calibrated Wave Height and Wind Speed Data Based on Altimeter Observations}},\n",
    "    year = {2019},\n",
    "    author = {Ribal, Agustinus and Young, Ian R},\n",
    "    number = {January}\n",
    "}\n",
    "\n",
    "@article{Young2018OnObservations,\n",
    "    title = {{On the determination of global ocean wind and wave climate from satellite observations}},\n",
    "    year = {2018},\n",
    "    journal = {Remote Sensing of Environment},\n",
    "    author = {Young, I.R. and Donelan, M.A.},\n",
    "    month = {9},\n",
    "    pages = {228--241},\n",
    "    volume = {215},\n",
    "    publisher = {Elsevier},\n",
    "    doi = {10.1016/J.RSE.2018.06.006}\n",
    "}"
   ]
  }
 ],
 "metadata": {
  "kernelspec": {
   "display_name": "Python 3",
   "language": "python",
   "name": "python3"
  },
  "language_info": {
   "codemirror_mode": {
    "name": "ipython",
    "version": 3
   },
   "file_extension": ".py",
   "mimetype": "text/x-python",
   "name": "python",
   "nbconvert_exporter": "python",
   "pygments_lexer": "ipython3",
   "version": "3.7.4"
  }
 },
 "nbformat": 4,
 "nbformat_minor": 2
}
