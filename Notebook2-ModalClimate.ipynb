{
 "cells": [
  {
   "cell_type": "markdown",
   "metadata": {},
   "source": [
    "# Modal Wave Climate\n",
    "In this notebook, the modal wave conditions, seasonal changes and long term trends in wave climate are determined"
   ]
  },
  {
   "cell_type": "markdown",
   "metadata": {},
   "source": [
    "## Dependencies"
   ]
  },
  {
   "cell_type": "code",
   "execution_count": 2,
   "metadata": {},
   "outputs": [
    {
     "ename": "ModuleNotFoundError",
     "evalue": "No module named 'netCDF4'",
     "output_type": "error",
     "traceback": [
      "\u001b[1;31m---------------------------------------------------------------------------\u001b[0m",
      "\u001b[1;31mModuleNotFoundError\u001b[0m                       Traceback (most recent call last)",
      "\u001b[1;32m<ipython-input-2-141f846defd9>\u001b[0m in \u001b[0;36m<module>\u001b[1;34m\u001b[0m\n\u001b[0;32m      1\u001b[0m \u001b[1;32mimport\u001b[0m \u001b[0mnumpy\u001b[0m \u001b[1;32mas\u001b[0m \u001b[0mnp\u001b[0m\u001b[1;33m\u001b[0m\u001b[1;33m\u001b[0m\u001b[0m\n\u001b[0;32m      2\u001b[0m \u001b[1;32mimport\u001b[0m \u001b[0mpandas\u001b[0m \u001b[1;32mas\u001b[0m \u001b[0mpd\u001b[0m\u001b[1;33m\u001b[0m\u001b[1;33m\u001b[0m\u001b[0m\n\u001b[1;32m----> 3\u001b[1;33m \u001b[1;32mimport\u001b[0m \u001b[0mnetCDF4\u001b[0m\u001b[1;33m\u001b[0m\u001b[1;33m\u001b[0m\u001b[0m\n\u001b[0m\u001b[0;32m      4\u001b[0m \u001b[1;32mfrom\u001b[0m \u001b[0mnetCDF4\u001b[0m \u001b[1;32mimport\u001b[0m \u001b[0mDataset\u001b[0m \u001b[1;32mas\u001b[0m \u001b[0mNetCDFFile\u001b[0m\u001b[1;33m\u001b[0m\u001b[1;33m\u001b[0m\u001b[0m\n\u001b[0;32m      5\u001b[0m \u001b[1;32mfrom\u001b[0m \u001b[0mnetCDF4\u001b[0m \u001b[1;32mimport\u001b[0m \u001b[0mnum2date\u001b[0m\u001b[1;33m,\u001b[0m \u001b[0mdate2num\u001b[0m\u001b[1;33m,\u001b[0m \u001b[0mdate2index\u001b[0m\u001b[1;33m\u001b[0m\u001b[1;33m\u001b[0m\u001b[0m\n",
      "\u001b[1;31mModuleNotFoundError\u001b[0m: No module named 'netCDF4'"
     ]
    }
   ],
   "source": [
    "import numpy as np\n",
    "import pandas as pd\n",
    "import netCDF4\n",
    "from netCDF4 import Dataset as NetCDFFile \n",
    "from netCDF4 import num2date, date2num, date2index\n",
    "import datetime as dt\n",
    "import re\n",
    "import pymannkendall as mk"
   ]
  },
  {
   "cell_type": "markdown",
   "metadata": {},
   "source": [
    "## A. Import file created by Notebook1\n"
   ]
  },
  {
   "cell_type": "markdown",
   "metadata": {},
   "source": [
    "## Arguments\n",
    "\n",
    "- lat: latitude\n",
    "- lon: longitude\n",
    "- wh: significant wave height\n",
    "- t: time\n",
    "- qc: quality control flag, one represents \"probably good data\" (Ribal and Young 2019)\n",
    "- back: backscatter\n",
    "- ws: windspeed\n",
    "- T: wave period"
   ]
  },
  {
   "cell_type": "code",
   "execution_count": null,
   "metadata": {},
   "outputs": [],
   "source": [
    "nameCSV = 'hydro_2.csv'\n",
    "df = pd.read_csv(str(nameCSV), sep=r'\\s+', engine='c', header=0, na_filter=False, \\\n",
    "                               dtype=np.float, low_memory=False)\n",
    "\n",
    "data = df.sort_values(by=['tt'])\n",
    "\n",
    "lat = data.values[:,0]\n",
    "lon = data.values[:,1]\n",
    "wh = data.values[:,2]\n",
    "tt = data.values[:,3]\n",
    "qc = data.values[:,4]\n",
    "back =data.values[:,5]\n",
    "ws = data.values[:,6]"
   ]
  },
  {
   "cell_type": "markdown",
   "metadata": {},
   "source": [
    "## B. Show Satellite Tracks"
   ]
  },
  {
   "cell_type": "code",
   "execution_count": null,
   "metadata": {},
   "outputs": [],
   "source": [
    "fig, ax = plt.subplots()\n",
    "\n",
    "marker_size = 10\n",
    "im = ax.scatter(lon,lat, c=wh, cmap=plt.cm.jet, marker = '.')\n",
    "fig.colorbar(im, ax=ax, label='Wave Height (m)')\n",
    "\n",
    "plt.title(\"Satellite Tracks\")\n",
    "plt.xlabel(\"Longitude\")\n",
    "plt.ylabel(\"Latitude\")            \n",
    "plt.show()"
   ]
  },
  {
   "cell_type": "markdown",
   "metadata": {},
   "source": [
    "## C. Find the number of days of observations"
   ]
  },
  {
   "cell_type": "code",
   "execution_count": null,
   "metadata": {},
   "outputs": [],
   "source": [
    "days = [] #daystart\n",
    "for k in range(len(tt)):\n",
    "       \n",
    "    t1 = netCDF4.num2date(tt[k],u'days since 1985-01-01 00:00:00 UTC')\n",
    "    if k == 0: #get day 0. Then else: every day after that\n",
    "        days.append(0)\n",
    "        dd = netCDF4.num2date(tt[k],u'days since 1985-01-01 00:00:00 UTC')\n",
    "        it = 0\n",
    "    else:\n",
    "        if t1.day != dd.day: #if day 1 is not equal to day 2, then append\n",
    "            #print dd.day,t1.day\n",
    "            days.append(k)\n",
    "            it += 1\n",
    "            dd = netCDF4.num2date(tt[k],u'days since 1985-01-01 00:00:00 UTC')"
   ]
  },
  {
   "cell_type": "code",
   "execution_count": null,
   "metadata": {},
   "outputs": [],
   "source": [
    "alltime = num2date(tt[:],u'days since 1985-01-01 00:00:00 UTC')\n",
    "r = netCDF4.num2date(tt[days],u'days since 1985-01-01 00:00:00 UTC')"
   ]
  },
  {
   "cell_type": "markdown",
   "metadata": {},
   "source": [
    "Use days2 for graphing and making dataframes where the date, not index position, is needed"
   ]
  },
  {
   "cell_type": "code",
   "execution_count": null,
   "metadata": {},
   "outputs": [],
   "source": [
    "days2 = [] #daystart\n",
    "for k in range(len(alltime)):\n",
    "       \n",
    "    t1 = alltime[k]\n",
    "    if k == 0: #get day 0. Then else: every day after that\n",
    "        days2.append(alltime[k])\n",
    "        dd =alltime[k]\n",
    "        it = 0\n",
    "    else:\n",
    "        if t1.day != dd.day: #if day 1 is not equal to day 2, then append\n",
    "            #print dd.day,t1.day\n",
    "            days2.append(alltime[k])\n",
    "            it += 1\n",
    "            dd = alltime[k]\n",
    "            \n",
    "            \n",
    "print 'Number of Satellite Tracks:', len(tt[days])"
   ]
  },
  {
   "cell_type": "markdown",
   "metadata": {},
   "source": [
    "## D. Wave period equation \n",
    "From Govindan et al. (2011).\n",
    "\n",
    "$ \\epsilon = 3.25 \\left( H_s^2 g^2/U^4 \\right)^{0.31}$\n"
   ]
  },
  {
   "cell_type": "code",
   "execution_count": null,
   "metadata": {},
   "outputs": [],
   "source": [
    "def waveage(H, U, grav=9.80665):\n",
    "    '''\n",
    "    The pseudo wave age can be expressed in terms of significant wave height and surface wind speed.\n",
    "    '''\n",
    "\n",
    "    grav2 = grav**2\n",
    "    wh2 = np.square(H) \n",
    "    u4 = np.power(U,4)\n",
    "    tmp = np.divide(wh2*grav2,u4)\n",
    "    eps = 3.25*np.power(tmp,0.31)\n",
    "    \n",
    "    return eps\n",
    "\n",
    "\n",
    "def waveperiod(H, U, grav=9.80665):\n",
    "    '''\n",
    "    Wave age from GA-2, Govindan et al.\n",
    "    '''\n",
    "\n",
    "    eps = waveage(H, U, grav=9.80665)\n",
    "    period = (((eps-(5.78))/(eps+(U/(H*((U/H)+H)))))+(H+(5.70)))\n",
    "    \n",
    "    return period"
   ]
  },
  {
   "cell_type": "code",
   "execution_count": null,
   "metadata": {},
   "outputs": [],
   "source": [
    "T = waveperiod(wh,ws)\n",
    "print T\n",
    "print len(T),len(wh)"
   ]
  },
  {
   "cell_type": "markdown",
   "metadata": {},
   "source": [
    "Parameters for each day"
   ]
  },
  {
   "cell_type": "code",
   "execution_count": null,
   "metadata": {},
   "outputs": [],
   "source": [
    "dayswh = wh[days] #wave height for each day\n",
    "daysTz = T[days]\n",
    "dayslon = lon[days]\n",
    "dayslat = lat[days]\n",
    "\n",
    "print len(dayswh)\n",
    "print len(daysTz)\n",
    "print len(dayslon)\n",
    "print len(dayslat)"
   ]
  },
  {
   "cell_type": "markdown",
   "metadata": {},
   "source": [
    "## E. Calculate Wave Power\n",
    "\n",
    "\n",
    "\n",
    "### Total Wave Energy\n",
    "$E = \\frac{1}{8} \\left(pgH_s^2\\right) $\n"
   ]
  },
  {
   "cell_type": "code",
   "execution_count": null,
   "metadata": {},
   "outputs": [],
   "source": [
    "def totalwaveenergy(wh):\n",
    "    \n",
    "    '''\n",
    "    The total wave energy can be calculated using wave height, gravity and water density\n",
    "    '''\n",
    "    \n",
    "    x = 1./8.\n",
    "    p = 1025. #sea water density, kg/m^3\n",
    "    g = 9.80665\n",
    "    h2 = np.square(wh) \n",
    "    \n",
    "    pgh = p*g*h2\n",
    "    \n",
    "    e = x*pgh\n",
    "    \n",
    "    return e"
   ]
  },
  {
   "cell_type": "code",
   "execution_count": null,
   "metadata": {},
   "outputs": [],
   "source": [
    "we = totalwaveenergy(wh)"
   ]
  },
  {
   "cell_type": "markdown",
   "metadata": {},
   "source": [
    "### Wave energy speed / Wave Velocity\n",
    "\n",
    "# $Cg = \\frac{g}{2\\pi} * Tz $\n"
   ]
  },
  {
   "cell_type": "code",
   "execution_count": null,
   "metadata": {},
   "outputs": [],
   "source": [
    "import math\n",
    "def airywavespeed(T):\n",
    "    '''\n",
    "    Airy wave theory wave speed\n",
    "    '''\n",
    "    g = 9.80665\n",
    "    pi = 2*math.pi\n",
    "    gpi = g/pi\n",
    "    Cg = gpi *T\n",
    "    return Cg"
   ]
  },
  {
   "cell_type": "code",
   "execution_count": null,
   "metadata": {},
   "outputs": [],
   "source": [
    "speed = airywavespeed(T)\n",
    "speed"
   ]
  },
  {
   "cell_type": "markdown",
   "metadata": {},
   "source": [
    "### Wave Energy Flux\n",
    "$P = ECg$"
   ]
  },
  {
   "cell_type": "code",
   "execution_count": null,
   "metadata": {},
   "outputs": [],
   "source": [
    "def waveenergyflux(H,T):\n",
    "    '''\n",
    "    The rate at which energy is carried by waves, determined using total wave energy and wave energy speed, kW/m\n",
    "    '''\n",
    "    \n",
    "    e = totalwaveenergy(H)\n",
    "    Cg = airywavespeed(T)\n",
    "    y = 0.001 # convert from W/m to kW/m\n",
    "    P = e * Cg*y\n",
    "    \n",
    "    return P"
   ]
  },
  {
   "cell_type": "code",
   "execution_count": null,
   "metadata": {},
   "outputs": [],
   "source": [
    "power1 = waveenergyflux(wh,T)\n",
    "pp = power1[days]"
   ]
  },
  {
   "cell_type": "markdown",
   "metadata": {},
   "source": [
    "## F. Make dataframe"
   ]
  },
  {
   "cell_type": "code",
   "execution_count": null,
   "metadata": {},
   "outputs": [],
   "source": [
    "df = pd.DataFrame(data={\"date\": days2, \"wh\":dayswh, \"period\":daysTz, \"power\":pp, \"lon\":dayslon, \"lat\":dayslat})\n",
    "df.to_csv(\"hydro_timeseries.csv\", sep=',',index=False)"
   ]
  },
  {
   "cell_type": "markdown",
   "metadata": {},
   "source": [
    "### Get rolling average values based on 30 Days\n"
   ]
  },
  {
   "cell_type": "code",
   "execution_count": null,
   "metadata": {},
   "outputs": [],
   "source": [
    "yrolling = df.rolling('30D', on = 'date', min_periods = 1).mean()"
   ]
  },
  {
   "cell_type": "code",
   "execution_count": null,
   "metadata": {},
   "outputs": [],
   "source": [
    "wh_rolling=yrolling['wh']\n",
    "period_rolling=yrolling['period']\n",
    "power_rolling = yrolling['power']"
   ]
  },
  {
   "cell_type": "markdown",
   "metadata": {},
   "source": [
    "### Incorporate rolling averages into dataframe"
   ]
  },
  {
   "cell_type": "code",
   "execution_count": null,
   "metadata": {},
   "outputs": [],
   "source": [
    "df = pd.DataFrame(data={\"date\": days2, \"wh\":dayswh, \"wh_rolling\":wh_rolling, \"period\":daysTz, \"period_rolling\":period_rolling, \"power\":pp, \"power_rolling\":power_rolling })\n",
    "df.to_csv(\"hydro_timeseries.csv\", sep=',',index=False)"
   ]
  },
  {
   "cell_type": "markdown",
   "metadata": {},
   "source": [
    "## G. Timeseries\n",
    "### Find date when there is a data gap due to no operating satellites (will be slightly different depending on location)"
   ]
  },
  {
   "cell_type": "code",
   "execution_count": null,
   "metadata": {},
   "outputs": [],
   "source": [
    "print df.date[57]\n",
    "print df.date[58]"
   ]
  },
  {
   "cell_type": "code",
   "execution_count": null,
   "metadata": {},
   "outputs": [],
   "source": [
    "#Define variables\n",
    "\n",
    "#Period normal    \n",
    "time1 = df.period[0:57]\n",
    "time2 = df.period[58:-1]\n",
    "\n",
    "#Period rolling\n",
    "tt1 = df.period_rolling[0:57]\n",
    "tt2 = df.period_rolling[58:-1]\n",
    "        \n",
    "\n",
    "\n",
    "#Wh normal\n",
    "y1 = df.wh[0:57]\n",
    "y2 = df.wh[58:-1]\n",
    "\n",
    "#wh rolling\n",
    "yy1 = df.wh_rolling[0:57]\n",
    "yy2 = df.wh_rolling[58:-1]\n",
    "\n",
    "#power normal\n",
    "p1 = df.power[0:57]\n",
    "p2=df.power[58:-1]\n",
    "\n",
    "#power rolling\n",
    "pp1 = df.power_rolling[0:57]\n",
    "pp2 = df.power_rolling[58:-1]\n",
    "\n",
    "\n",
    "#Date\n",
    "x1=df.date[0:57]\n",
    "x2 = df.date[58:-1]"
   ]
  },
  {
   "cell_type": "code",
   "execution_count": null,
   "metadata": {},
   "outputs": [],
   "source": [
    "fig, (ax1, ax2, ax3) = plt.subplots(nrows=3, ncols=1, sharex = True,figsize = (15,15))    \n",
    "sns.set_style(\"white\")\n",
    "\n",
    "#Wh\n",
    "#Before date break\n",
    "ax1.plot(x1,y1,color='lightgrey',label=\"$H_s$\")\n",
    "ax1.plot(x1,yy1,color='blue',label=\"30-Day Average $H_s$\")\n",
    "\n",
    "#After date break\n",
    "ax1.plot(x2,y2,color='lightgrey', label='False')\n",
    "ax1.plot(x2,yy2,color='blue')\n",
    "\n",
    "ax1.legend(labels=[\"$H_s$\",\"30-Day Average $H_s$\"], loc='upper right')\n",
    "ax1.set_ylabel(\"H$_s$ (m)\",style = 'italic',fontsize=20)\n",
    "ax1.set_ylim(0,6)\n",
    "ax1.tick_params(axis='y', which='both', labelsize=15)\n",
    "\n",
    "\n",
    "#Wave Period \n",
    "#Before date break\n",
    "ax2.plot(x1, time1, color='lightgrey')\n",
    "ax2.plot(x1,tt1,color='blue')\n",
    "\n",
    "#After date break\n",
    "ax2.plot(x2,time2, color='lightgrey')\n",
    "ax2.plot(x2,tt2,color='blue')\n",
    "\n",
    "ax2.legend(labels=['T$_\\mathit{z}$',\"30-Day Average T$_\\mathit{z}$\"], loc='upper right')\n",
    "ax2.set_ylabel(\"Tz (s)\",style = 'italic',fontsize=20)\n",
    "ax2.tick_params(axis='y', which='both', labelsize=15)\n",
    "\n",
    "\n",
    "#Wave Power \n",
    "#Before date break\n",
    "ax3.plot(x1, p1,color='lightgrey')\n",
    "ax3.plot(x1,pp1,color='blue')\n",
    "\n",
    "#After date break\n",
    "ax3.plot(x2,p2,color='lightgrey')\n",
    "ax3.plot(x2,pp2,color='blue')\n",
    "\n",
    "ax3.legend(labels=['$\\mathit{P}$',\"30-Day Average $\\mathit{P}$\"], loc='upper right')\n",
    "ax3.set_ylabel(\"P (kW/m)\", style = 'italic',fontsize=20)\n",
    "ax3.tick_params(axis='y', which='both', labelsize=15)\n",
    "ax3.set_yticks(ticks =(0,200,400,600,800))\n",
    "\n",
    "\n",
    "\n",
    "#Formatting\n",
    "ax3.tick_params(axis='x', which='both', labelsize=15)\n",
    "ax3.set_xlabel(\"Year\", fontsize=20)\n",
    "#ax3.xaxis.set_minor_locator(AutoMinorLocator())\n",
    "\n",
    "ax3.set_xlim(min(x1),max(x2))\n",
    "years = pd.date_range('2008','2015', freq='AS')\n",
    "\n",
    "plt.savefig(\"Timeseries\")"
   ]
  },
  {
   "cell_type": "markdown",
   "metadata": {},
   "source": [
    "## H. Calculate mean, median, 95th percentile and maximum values for each parameter"
   ]
  },
  {
   "cell_type": "code",
   "execution_count": null,
   "metadata": {},
   "outputs": [],
   "source": [
    "print 'mean wh', np.mean(df.wh)\n",
    "print 'median wh', np.median(df.wh)\n",
    "print '95th percentile wh', np.percentile(df.wh,95)\n",
    "print 'max wh', max(df.wh)\n",
    "\n",
    "print 'mean tz', np.mean(df.period)\n",
    "print 'median tz', np.median(df.period)\n",
    "print '95th percentile tz', np.percentile(df.period,95)\n",
    "print 'max tz', max(df.period)\n",
    "\n",
    "print 'mean power', np.mean(df.power)\n",
    "print 'median power', np.median(df.power)\n",
    "print '95th percentile power', np.percentile(df.power,95)\n",
    "print 'max power', max(df.power)\n"
   ]
  },
  {
   "cell_type": "markdown",
   "metadata": {},
   "source": [
    "## I. Find any values above a certain value\n",
    "For example, find the wave height, period, power and date of each satellite record when wave height is greater than 4 m."
   ]
  },
  {
   "cell_type": "code",
   "execution_count": null,
   "metadata": {},
   "outputs": [],
   "source": [
    "for k in range(len(days)):\n",
    "    if df.wh[k]>4:\n",
    "        print df.wh[k], df.period[k], df.power[k], df.date[k]"
   ]
  },
  {
   "cell_type": "markdown",
   "metadata": {},
   "source": [
    "#  Monthly values\n",
    "The average wave height for each month, in each year"
   ]
  },
  {
   "cell_type": "markdown",
   "metadata": {},
   "source": [
    "## I. Monthly dataframe for wh. Can use for tz, p, ws and other parameters"
   ]
  },
  {
   "cell_type": "code",
   "execution_count": null,
   "metadata": {},
   "outputs": [],
   "source": [
    "# use this to make year/month df for each year\n",
    "def getMeanH(month,year):\n",
    "    valwh = []\n",
    "    for k in range(len(days)):\n",
    "        if r[k].year == year and r[k].month == month:\n",
    "            valwh.append(wh[days[k]])\n",
    "\n",
    "    return np.mean(valwh)"
   ]
  },
  {
   "cell_type": "code",
   "execution_count": null,
   "metadata": {},
   "outputs": [],
   "source": [
    "my93 = []\n",
    "my94 = []\n",
    "my95 = []\n",
    "my96 = []\n",
    "my97 = []\n",
    "my98 = []\n",
    "my99 = []\n",
    "my00 = []\n",
    "my01 = []\n",
    "my02 = []\n",
    "my03 = []\n",
    "my04 = []\n",
    "my05 = []\n",
    "my06 = []\n",
    "my07 = []\n",
    "my08 = []\n",
    "my09 = []\n",
    "my10 = []\n",
    "my11 = []\n",
    "my12 = []\n",
    "my13 = []\n",
    "my14 = []\n",
    "my15 = []\n",
    "my16 = []\n",
    "my17 = []\n",
    "my18 = []\n",
    "\n",
    "\n",
    "for k in range(1,13):\n",
    "    my93.append(getMeanH(k,1993))\n",
    "    my94.append(getMeanH(k,1994))\n",
    "    my95.append(getMeanH(k,1995))\n",
    "    my96.append(getMeanH(k,1996))\n",
    "    my97.append(getMeanH(k,1997))\n",
    "    my98.append(getMeanH(k,1998))\n",
    "    my99.append(getMeanH(k,1999))\n",
    "    my00.append(getMeanH(k,2000))\n",
    "    my01.append(getMeanH(k,2001))\n",
    "    my02.append(getMeanH(k,2002))\n",
    "    my03.append(getMeanH(k,2003))\n",
    "    my04.append(getMeanH(k,2004))\n",
    "    my05.append(getMeanH(k,2005))\n",
    "    my06.append(getMeanH(k,2006))\n",
    "    my07.append(getMeanH(k,2007))\n",
    "    my08.append(getMeanH(k,2008))\n",
    "    my09.append(getMeanH(k,2009))\n",
    "    my10.append(getMeanH(k,2010))\n",
    "    my11.append(getMeanH(k,2011))\n",
    "    my12.append(getMeanH(k,2012))\n",
    "    my13.append(getMeanH(k,2013))\n",
    "    my14.append(getMeanH(k,2014))\n",
    "    my15.append(getMeanH(k,2015))\n",
    "    my16.append(getMeanH(k,2016))\n",
    "    my17.append(getMeanH(k,2017))\n",
    "    my18.append(getMeanH(k,2018))   "
   ]
  },
  {
   "cell_type": "code",
   "execution_count": null,
   "metadata": {},
   "outputs": [],
   "source": [
    "index= ('January', 'February','March','April','May','June','July','August','September','October','November','December')\n",
    "df_wh = pd.DataFrame(data={\n",
    "'1993':my93,\n",
    "\"1994\":my94,\n",
    "'1993':my93,\n",
    "'1994':my94,\n",
    "'1995':my95,\n",
    "'1996':my96,\n",
    "'1997':my97,\n",
    "'1998':my98,\n",
    "'1999':my99,\n",
    "'2000':my00,\n",
    "'2001':my01,\n",
    "'2002':my02,\n",
    "'2003':my03,\n",
    "'2004':my04,\n",
    "'2005':my05,\n",
    "'2006':my06,\n",
    "'2007':my07,\n",
    "'2008':my08,\n",
    "'2009':my09,\n",
    "'2010':my10,\n",
    "'2011':my11,\n",
    "'2012':my12,\n",
    "'2013':my13,\n",
    "'2014':my14,\n",
    "'2015':my15,\n",
    "'2016':my16,\n",
    "'2017':my17,\n",
    "'2018':my18}, index=index)"
   ]
  },
  {
   "cell_type": "code",
   "execution_count": null,
   "metadata": {},
   "outputs": [],
   "source": [
    "wh_transpose =df_wh.transpose()\n",
    "wh_transpose"
   ]
  },
  {
   "cell_type": "code",
   "execution_count": null,
   "metadata": {},
   "outputs": [],
   "source": [
    "wh_stack = wh_transpose.stack()\n",
    "wh_stack.to_csv(\"wh_years.csv\", sep=',',index=1)"
   ]
  },
  {
   "cell_type": "markdown",
   "metadata": {},
   "source": [
    "## Average monthly wave height plot"
   ]
  },
  {
   "cell_type": "code",
   "execution_count": null,
   "metadata": {},
   "outputs": [],
   "source": [
    "fig, ax = plt.subplots(figsize = (15,15))\n",
    "sns.boxplot(data = wh_transpose[:], palette='Spectral')\n",
    "ax.set_ylabel(\"Significant Wave Height (m)\",fontsize = 20)\n",
    "ax.set_xlabel('Month',fontsize = 20)\n",
    "\n",
    "\n",
    "ax.yaxis.set_tick_params(labelsize=15)\n",
    "ax.xaxis.set_tick_params(labelsize=15, rotation=45)\n",
    "\n",
    "ax.set_yticks(ticks=(0.5,1.0,1.5,2.0,2.5,3.0,3.5))"
   ]
  },
  {
   "cell_type": "markdown",
   "metadata": {},
   "source": [
    "### Interannual variability Standard Deviation"
   ]
  },
  {
   "cell_type": "code",
   "execution_count": null,
   "metadata": {
    "scrolled": true
   },
   "outputs": [],
   "source": [
    "monthly_sd = df3.std(axis=0) # takes all january values and finds its SD. \n",
    "monthly_sd.plot()"
   ]
  },
  {
   "cell_type": "markdown",
   "metadata": {},
   "source": [
    "## K. Seasonal Kendall Test\n",
    "Determines the trend accounting for seasonality in data. Package from Hussain & Mahmud (2019). Slope indicates change in the parameter unit per year"
   ]
  },
  {
   "cell_type": "code",
   "execution_count": null,
   "metadata": {},
   "outputs": [],
   "source": [
    "monthly = mk.seasonal_test(wh_stack, period=12)\n",
    "monthly"
   ]
  },
  {
   "cell_type": "markdown",
   "metadata": {},
   "source": [
    "## References\n",
    "\n",
    "Govindan, R., Kumar, R., Basu, S. & Sarkar, A. (2011), ‘Altimeter-derived ocean wave period using genetic algorithm’, IEEE Geoscience and Remote Sensing Letters 8(2)\n",
    "\n",
    "Hussain, M. M. & Mahmud, I. (2019), ‘pyMannKendall: a python package for\n",
    "non parametric Mann Kendall family of trend tests’, Journal of Open Source\n",
    "Software 4(39), 1556."
   ]
  },
  {
   "cell_type": "code",
   "execution_count": null,
   "metadata": {},
   "outputs": [],
   "source": []
  }
 ],
 "metadata": {
  "kernelspec": {
   "display_name": "Python 3",
   "language": "python",
   "name": "python3"
  }
 },
 "nbformat": 4,
 "nbformat_minor": 2
}
